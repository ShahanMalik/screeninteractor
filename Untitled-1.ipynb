{
 "cells": [
  {
   "cell_type": "code",
   "execution_count": 2,
   "metadata": {},
   "outputs": [
    {
     "name": "stdout",
     "output_type": "stream",
     "text": [
      "Collecting pydirectinputNote: you may need to restart the kernel to use updated packages.\n",
      "\n",
      "  Using cached PyDirectInput-1.0.4-py3-none-any.whl (8.9 kB)\n",
      "Installing collected packages: pydirectinput\n",
      "Successfully installed pydirectinput-1.0.4\n"
     ]
    },
    {
     "name": "stderr",
     "output_type": "stream",
     "text": [
      "\n",
      "[notice] A new release of pip is available: 23.0.1 -> 24.3.1\n",
      "[notice] To update, run: python.exe -m pip install --upgrade pip\n"
     ]
    }
   ],
   "source": [
    "pip install pydirectinput"
   ]
  },
  {
   "cell_type": "code",
   "execution_count": null,
   "metadata": {},
   "outputs": [],
   "source": [
    "pip install opencv-python"
   ]
  },
  {
   "cell_type": "code",
   "execution_count": 4,
   "metadata": {},
   "outputs": [
    {
     "name": "stdout",
     "output_type": "stream",
     "text": [
      "Collecting mss\n",
      "  Downloading mss-10.0.0-py3-none-any.whl (24 kB)\n",
      "Installing collected packages: mss\n",
      "Successfully installed mss-10.0.0\n",
      "Note: you may need to restart the kernel to use updated packages.\n"
     ]
    },
    {
     "name": "stderr",
     "output_type": "stream",
     "text": [
      "  WARNING: The script mss.exe is installed in 'c:\\Users\\HP\\AppData\\Local\\Programs\\Python\\Python310\\Scripts' which is not on PATH.\n",
      "  Consider adding this directory to PATH or, if you prefer to suppress this warning, use --no-warn-script-location.\n",
      "\n",
      "[notice] A new release of pip is available: 23.0.1 -> 24.3.1\n",
      "[notice] To update, run: python.exe -m pip install --upgrade pip\n"
     ]
    }
   ],
   "source": [
    "pip install mss"
   ]
  },
  {
   "cell_type": "code",
   "execution_count": 15,
   "metadata": {},
   "outputs": [
    {
     "name": "stdout",
     "output_type": "stream",
     "text": [
      "Collecting pytesseractNote: you may need to restart the kernel to use updated packages.\n"
     ]
    },
    {
     "name": "stderr",
     "output_type": "stream",
     "text": [
      "  WARNING: The script pytesseract.exe is installed in 'c:\\Users\\HP\\AppData\\Local\\Programs\\Python\\Python310\\Scripts' which is not on PATH.\n",
      "  Consider adding this directory to PATH or, if you prefer to suppress this warning, use --no-warn-script-location.\n",
      "\n",
      "[notice] A new release of pip is available: 23.0.1 -> 24.3.1\n",
      "[notice] To update, run: python.exe -m pip install --upgrade pip\n"
     ]
    },
    {
     "name": "stdout",
     "output_type": "stream",
     "text": [
      "\n",
      "  Downloading pytesseract-0.3.13-py3-none-any.whl (14 kB)\n",
      "Requirement already satisfied: packaging>=21.3 in c:\\users\\hp\\appdata\\roaming\\python\\python310\\site-packages (from pytesseract) (24.2)\n",
      "Requirement already satisfied: Pillow>=8.0.0 in c:\\users\\hp\\appdata\\local\\programs\\python\\python310\\lib\\site-packages (from pytesseract) (11.1.0)\n",
      "Installing collected packages: pytesseract\n",
      "Successfully installed pytesseract-0.3.13\n"
     ]
    }
   ],
   "source": [
    "pip install pytesseract"
   ]
  },
  {
   "cell_type": "code",
   "execution_count": 24,
   "metadata": {},
   "outputs": [],
   "source": [
    "import pyautogui\n",
    "import mss\n",
    "import cv2\n",
    "import numpy as np\n",
    "import pytesseract\n",
    "import time\n",
    "\n",
    "# Set the path to the Tesseract executable\n",
    "pytesseract.pytesseract.tesseract_cmd = r'C:\\Program Files\\Tesseract-OCR\\tesseract.exe'\n",
    "\n",
    "def click_on_text(target_text):\n",
    "    with mss.mss() as sct:\n",
    "        # Get the screen dimensions\n",
    "        monitor = sct.monitors[1]\n",
    "        screenshot = sct.grab(monitor)\n",
    "\n",
    "        # Convert the screenshot to a numpy array\n",
    "        img = np.array(screenshot)\n",
    "\n",
    "        # Convert the image to grayscale\n",
    "        gray = cv2.cvtColor(img, cv2.COLOR_BGR2GRAY)\n",
    "\n",
    "        # Use pytesseract to do OCR on the image\n",
    "        data = pytesseract.image_to_data(gray, output_type=pytesseract.Output.DICT)\n",
    "\n",
    "        # Iterate through the detected text\n",
    "        for i in range(len(data['text'])):\n",
    "            if target_text.lower() in data['text'][i].lower():\n",
    "                x = data['left'][i]\n",
    "                y = data['top'][i]\n",
    "                w = data['width'][i]\n",
    "                h = data['height'][i]\n",
    "\n",
    "                # Calculate the center of the detected text area\n",
    "                center_x = x + w // 2\n",
    "                center_y = y + h // 2\n",
    "\n",
    "                # Move the mouse to the center of the detected text area and click\n",
    "                pyautogui.moveTo(center_x, center_y)\n",
    "                pyautogui.click()\n",
    "                return\n",
    "\n",
    "# Function to find the image and click on it\n",
    "def click_on_image(image_path, confidence=0.8):\n",
    "    with mss.mss() as sct:\n",
    "        # Get the screen dimensions\n",
    "        monitor = sct.monitors[1]\n",
    "        screenshot = sct.grab(monitor)\n",
    "\n",
    "        # Convert the screenshot to a numpy array\n",
    "        img = np.array(screenshot)\n",
    "\n",
    "        # Load the template image\n",
    "        template = cv2.imread(image_path, cv2.IMREAD_GRAYSCALE)\n",
    "        template_w, template_h = template.shape[::-1]\n",
    "\n",
    "        # Convert the screenshot to grayscale\n",
    "        gray = cv2.cvtColor(img, cv2.COLOR_BGR2GRAY)\n",
    "\n",
    "        # Use template matching to find the template in the screenshot\n",
    "        res = cv2.matchTemplate(gray, template, cv2.TM_CCOEFF_NORMED)\n",
    "        min_val, max_val, min_loc, max_loc = cv2.minMaxLoc(res)\n",
    "\n",
    "        # Check if the match is above the confidence threshold\n",
    "        if max_val >= confidence:\n",
    "            # Calculate the center of the matched region\n",
    "            center_x = max_loc[0] + template_w // 2\n",
    "            center_y = max_loc[1] + template_h // 2\n",
    "\n",
    "            # Move the mouse to the center of the matched region and click\n",
    "            pyautogui.moveTo(center_x, center_y)\n",
    "            time.sleep(1)\n",
    "            pyautogui.click()\n",
    "            return\n",
    "\n",
    "# Press the Windows key\n",
    "pyautogui.press('win')\n",
    "time.sleep(1)  # Wait for the start menu to open\n",
    "\n",
    "# Type \"notepad\"\n",
    "pyautogui.write('notepad')\n",
    "time.sleep(1)  # Wait for the search results to appear\n",
    "\n",
    "# Press Enter\n",
    "pyautogui.press('enter')\n",
    "time.sleep(2)  # Wait for the application to open\n",
    "\n",
    "pyautogui.write('Hello World')\n",
    "\n",
    "# Example usage to click on a specific image\n",
    "click_on_text('File')\n",
    "time.sleep(1) \n",
    "click_on_text('Save')\n",
    "time.sleep(1) \n",
    "click_on_text('*.txt')\n",
    "time.sleep(1) \n",
    "pyautogui.write('test.txt')\n",
    "time.sleep(2)\n",
    "click_on_image('save_button.png')\n",
    "time.sleep(1)"
   ]
  }
 ],
 "metadata": {
  "kernelspec": {
   "display_name": "Python 3",
   "language": "python",
   "name": "python3"
  },
  "language_info": {
   "codemirror_mode": {
    "name": "ipython",
    "version": 3
   },
   "file_extension": ".py",
   "mimetype": "text/x-python",
   "name": "python",
   "nbconvert_exporter": "python",
   "pygments_lexer": "ipython3",
   "version": "3.10.11"
  }
 },
 "nbformat": 4,
 "nbformat_minor": 2
}
